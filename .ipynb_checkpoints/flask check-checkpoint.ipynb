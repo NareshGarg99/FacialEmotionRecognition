{
 "cells": [
  {
   "cell_type": "code",
   "execution_count": 1,
   "metadata": {},
   "outputs": [],
   "source": [
    "import pandas as pd\n",
    "import numpy as np\n",
    "import flask\n",
    "from flask import Flask,render_template, flash, request, url_for,redirect, session\n",
    "import re\n",
    "import os\n",
    "import tensorflow as tf\n",
    "from tensorflow.keras.preprocessing import sequence\n",
    "from tensorflow.keras.models import load_model\n",
    "from skimage import io\n",
    "from forms import RegistrationForm, LoginForm\n",
    "from flask_uploads import UploadSet, configure_uploads, IMAGES"
   ]
  },
  {
   "cell_type": "code",
   "execution_count": 2,
   "metadata": {},
   "outputs": [],
   "source": [
    "app = Flask(__name__)\n",
    "\n",
    "photos = UploadSet('photos', IMAGES)\n",
    "\n",
    "app.config['SECRET_KEY']='a7266cdf29030f092c955d59f1889390'\n",
    "app.config['UPLOADED_PHOTOS_DEST'] = 'C:/Users/kumar/Code/FacialEmotionRecognition'\n",
    "\n",
    "configure_uploads(app,photos)\n",
    "\n",
    "\n",
    "#load pretrained keras models\n",
    "model =  load_model('facial_sentiment_trained_32000.h5')\n",
    "\n",
    "\n",
    "@app.route('/home', methods=['GET', 'POST'])\n",
    "@app.route('/',methods=['GET', 'POST'])\n",
    "def home():\n",
    "    return render_template(\"home.html\")\n",
    "\n",
    "@app.route('/contact',methods=['GET', 'POST'])\n",
    "def contact():\n",
    "    return render_template('contact.html', title='contact')\n",
    "\n",
    "@app.route('/about',methods=['GET', 'POST'])\n",
    "def about():\n",
    "    return render_template('about.html', title='about')\n",
    "\n",
    "\n",
    "@app.route(\"/register\",methods=['GET', 'POST'])\n",
    "def register():\n",
    "    form = RegistrationForm()\n",
    "    if form.validate_on_submit():\n",
    "        flash('Account created for {form.username.data}!')\n",
    "    return render_template(\"register.html\", title='Register', form = form)\n",
    "\n",
    "@app.route(\"/login\", methods =[\"GET\", \"POST\"])\n",
    "def login():\n",
    "    form = LoginForm()\n",
    "    if form.validate_on_submit():\n",
    "        if form.email.data == 'admin@blog.com' and form.password.data == 'password':\n",
    "            flash('you have been logged in!', 'success')\n",
    "            return redirect(url_for('home'))\n",
    "        else:\n",
    "            flash('login Unsuccessful. check username and password', 'danger')\n",
    "\n",
    "    return render_template(\"login.html\", title='Login', form= form)\n"
   ]
  },
  {
   "cell_type": "code",
   "execution_count": null,
   "metadata": {},
   "outputs": [
    {
     "name": "stdout",
     "output_type": "stream",
     "text": [
      " * Serving Flask app \"__main__\" (lazy loading)\n",
      " * Environment: production\n",
      "   WARNING: This is a development server. Do not use it in a production deployment.\n",
      "   Use a production WSGI server instead.\n",
      " * Debug mode: off\n"
     ]
    },
    {
     "name": "stderr",
     "output_type": "stream",
     "text": [
      " * Running on http://127.0.0.1:5000/ (Press CTRL+C to quit)\n",
      "127.0.0.1 - - [08/Jul/2020 15:56:52] \"\u001b[37mGET / HTTP/1.1\u001b[0m\" 200 -\n",
      "127.0.0.1 - - [08/Jul/2020 15:57:25] \"\u001b[37mPOST /upload HTTP/1.1\u001b[0m\" 200 -\n"
     ]
    }
   ],
   "source": [
    "\n",
    "@app.route('/upload', methods= ['POST', 'GET'])\n",
    "def upload():\n",
    "    if request.method==\"POST\":\n",
    "        file_name = photos.save(request.files['photo'])\n",
    "        img = io.imread(file_name, as_gray=True)\n",
    "        \n",
    "        array = tf.keras.preprocessing.image.img_to_array(img)\n",
    "        image = tf.keras.preprocessing.image.array_to_img(array)\n",
    "        im1 = image.resize((48,48))\n",
    "        final_array = tf.keras.preprocessing.image.img_to_array(im1)\n",
    "        final_final_array = (np.array(final_array)).reshape((1,) + final_array.shape)\n",
    "        answer = model.predict_classes(final_final_array)\n",
    "        mapp = {\n",
    "            0 : 'Angry', 1:'Disgust', 2: 'Fear', 3: 'Happy', 4: 'Sad', 5 :'Surprise', 6: 'Neutral' \n",
    "        }\n",
    "        final_answer = mapp[answer[0]]\n",
    "    return render_template('home.html',sentiment=final_answer)\n",
    "if __name__ == \"__main__\":\n",
    "    app.run()\n"
   ]
  },
  {
   "cell_type": "code",
   "execution_count": null,
   "metadata": {},
   "outputs": [],
   "source": []
  }
 ],
 "metadata": {
  "kernelspec": {
   "display_name": "Python 3",
   "language": "python",
   "name": "python3"
  },
  "language_info": {
   "codemirror_mode": {
    "name": "ipython",
    "version": 3
   },
   "file_extension": ".py",
   "mimetype": "text/x-python",
   "name": "python",
   "nbconvert_exporter": "python",
   "pygments_lexer": "ipython3",
   "version": "3.7.0"
  }
 },
 "nbformat": 4,
 "nbformat_minor": 4
}
